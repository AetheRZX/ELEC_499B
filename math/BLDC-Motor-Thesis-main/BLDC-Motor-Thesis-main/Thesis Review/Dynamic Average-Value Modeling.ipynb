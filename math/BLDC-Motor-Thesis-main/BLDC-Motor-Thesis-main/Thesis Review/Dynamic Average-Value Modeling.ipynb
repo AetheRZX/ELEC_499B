{
 "cells": [
  {
   "cell_type": "markdown",
   "metadata": {},
   "source": [
    "# Thesis Review: Dynamic Average-Value Modeling of 120deg VSI-Commutated BLDC with Non-Sinusoidal Back EMF\n",
    "Oct, 1, 2024:"
   ]
  },
  {
   "cell_type": "markdown",
   "metadata": {},
   "source": [
    "### Average-Value Modeling:\n",
    "- This is a model where the effects fo fast switching are neglected relative to very slow dynamic behaviour of the system (i.e. long time constants) and are replaced eith average values.\n",
    "- These models are continuous\n",
    "- Reduces computation requirements\n",
    "\n",
    "### BLDC Inverter System:\n",
    "- Consists of permanent magnet synchronous machine (PMSM) driven by voltage source inverter (VSI).\n",
    "- This paper examines inverter with 120deg commutation method\n",
    "- 120deg commutation involves the phase being open-circuited for a small fraction of the revolution.\n",
    "- Original modeling was an average-value model (AVM) with sinusoidal back EMF. "
   ]
  },
  {
   "cell_type": "markdown",
   "metadata": {},
   "source": [
    "### Goal of this thesis:\n",
    "1) Include back EMF harmonics for modeling BLDC with pronounced non-sinusoidal back EMF\n",
    "2) Multiple reference frame theory used to include effect of back EMF harmonics\n",
    "3) Simulation to determine commutation angle. "
   ]
  },
  {
   "cell_type": "markdown",
   "metadata": {},
   "source": [
    "### Modeling BLDC with Non-Sinusoidal Back EMF:"
   ]
  },
  {
   "cell_type": "markdown",
   "metadata": {},
   "source": [
    "- Uses trapezoidal back EMF harmonics.\n",
    "- 120deg commutation scheme with 30deg advanced firing angle\n",
    "- Flux linkage vector will look like a square wave -> Fourier transform can decompose this into sum of sine waves (harmonics). Usually just the first harmonic is included. \n",
    "- Includes 5th, and 7th harmonics. (only odd harmonics exist, 3rd harmonic has no effect on averaging process)\n",
    "- Including extra harmonics lead to increased accuracy in the model. "
   ]
  },
  {
   "cell_type": "markdown",
   "metadata": {},
   "source": []
  }
 ],
 "metadata": {
  "kernelspec": {
   "display_name": "Python 3",
   "language": "python",
   "name": "python3"
  },
  "language_info": {
   "codemirror_mode": {
    "name": "ipython",
    "version": 3
   },
   "file_extension": ".py",
   "mimetype": "text/x-python",
   "name": "python",
   "nbconvert_exporter": "python",
   "pygments_lexer": "ipython3",
   "version": "3.9.6"
  }
 },
 "nbformat": 4,
 "nbformat_minor": 2
}
