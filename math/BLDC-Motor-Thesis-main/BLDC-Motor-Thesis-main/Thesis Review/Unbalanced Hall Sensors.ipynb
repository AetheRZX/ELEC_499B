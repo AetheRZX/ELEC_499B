{
 "cells": [
  {
   "cell_type": "markdown",
   "metadata": {},
   "source": [
    "# Thesis Review: Dynamic Performance of BLDC Motors with Unbalanced Hall Sesnors\n",
    "Nov, 4, 2024:"
   ]
  },
  {
   "cell_type": "markdown",
   "metadata": {},
   "source": [
    "### Introduction:\n",
    "- Assumption that Hall sensors are placed 120 electrical degrees apart not necessarily true in low-cost machines. \n",
    "- Imbalanced sensors leads to torque ripple, acoustic noise, vibrations and degredation of overall performance. \n",
    "- Averaging of time intervals is proposed to improve steady-state operation. MIMO filter is placed between hall signals and switching logic. "
   ]
  },
  {
   "cell_type": "markdown",
   "metadata": {},
   "source": [
    "### Model:\n",
    "\n",
    "- The errors can be measured very accurately indirectly by measuring the phase difference between the actual back EMFs and the Hall-sensor output signals."
   ]
  },
  {
   "cell_type": "markdown",
   "metadata": {},
   "source": []
  },
  {
   "cell_type": "markdown",
   "metadata": {},
   "source": []
  }
 ],
 "metadata": {
  "language_info": {
   "name": "python"
  }
 },
 "nbformat": 4,
 "nbformat_minor": 2
}
