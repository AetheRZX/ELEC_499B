{
 "cells": [
  {
   "cell_type": "markdown",
   "metadata": {},
   "source": [
    "# Thesis Review: Dynamic Average-Value Modeling of 120deg VSI-Commutated BLDC with Non-Sinusoidal Back EMF\n",
    "Oct, 3, 2024:"
   ]
  },
  {
   "cell_type": "markdown",
   "metadata": {},
   "source": [
    "### Summary:\n",
    "Potential failure of Hall sensors led to more interest in fault-tolerant-control (FTC). Most methods are not fast enough so there is a degradation in dynamic performance since the controller needs to be checking for faults at all times. This thesis proposed a fast-fault-tolerance-control method (FFTC). It does fast identification of faults and can compensate for up to faults on two Hall sensors. "
   ]
  },
  {
   "cell_type": "markdown",
   "metadata": {},
   "source": [
    "Hall effect sensors can fault for a variety of reasons. Circuit faults, vibrations, harsh environments. The fault will cause the sensor to be stuck in a high or low state. FTC needs to detect fast without degrading BLDC motor operation. Most FTC is fine at low speeds, but high speed and acceleration is problematic. "
   ]
  },
  {
   "cell_type": "markdown",
   "metadata": {},
   "source": [
    "### Proposed Method:\n",
    "1) Hall sensor faults classified into 6 types. The faults also classified into four classes based on relative time of occurrence. \n",
    "2) Efficient diagnosis method to identify fault quickly for single and double faults. \n",
    "3) Dynamic threshold coefficient defined to avoid fault trips under fast acceleration/deceleration \n",
    "4) Reconstruction method avoids feeding false rotor angle into inverter for smooth ride through the fault.\n",
    "\n",
    "- FFTC takes the original hall sensor signals h1, h2, and h3, and outputs reconstructed signals. "
   ]
  },
  {
   "cell_type": "markdown",
   "metadata": {},
   "source": [
    "### Normal Operation:\n",
    "- Hall sensors produce binary signals 0 and 1 and are displaced by 120 electrical degrees. \n",
    "- Hall state variable, $s = 4h_1 + 2h_2 + h_3$ can take one of 6 values. For CCW direction, the hall state changes according to 5->4->6->2->3->1->5\n",
    "- Rotor speed can be estimated by dividing the change in angle position quantized by the Hall signals over the time between two transition states. \n",
    "- Rotor angle can be estimated by integrating this rotor speed between state transitions. \n"
   ]
  },
  {
   "cell_type": "markdown",
   "metadata": {},
   "source": [
    "### Fault Types and States:"
   ]
  },
  {
   "cell_type": "markdown",
   "metadata": {},
   "source": [
    "- Use fault status variable $F_i$ which indicates a fault of sensor $H_i$\n",
    "- Normal case $F_1 = F_2 = F_3 = 0$\n",
    "- Single fault -> One of the sensors faulted\n",
    "- Double fault -> Two sensors faulted \n",
    "- 6 total fault cases. "
   ]
  },
  {
   "cell_type": "markdown",
   "metadata": {},
   "source": [
    "### Diagnostic Method:\n",
    "- Need to monitor hall state at rate faster than commutation intervals. \n",
    "- Change in hall sensor state when $s(m) \\ne s(m - 1)$\n",
    "- When the state changes, use a LUT to determine a fault type and sensor fault state.\n",
    "- Need to know the next expected hall state and time that it should take to transition to it to know whether the state transition is normal or faulty. We also set a threshold for the time depending on the acceleration. $T_{min}(n) = k_{thresh}\\hat{\\tau(n)}$ and $T_{max}(n) = \\hat{\\tau(n)}/k_{thresh}$\n",
    "- Possible faults categorized into four different classes"
   ]
  },
  {
   "cell_type": "markdown",
   "metadata": {},
   "source": [
    "### Fault Class 1:\n",
    "The state transitions to a value that is different from the expected state, s and it happens sooner than the expected time of a state transition. Depending on the transition, the faulty Hall sensors and their values can be determined from a LUT. \n",
    "\n",
    "### Fault Class 2:\n",
    "The state transitions to a value that is expected, however, it happens sooner than expected. LUT table is also used to see which sensor and value it faulted to. \n",
    "\n",
    "### Fault Class 3:\n",
    "Sensor fails at the same time as the normal commutation of another sensor. i.e. the expected transition is correct, but it switches to the wrong value. LUT to identity.\n",
    "\n",
    "### Fault Class 4:\n",
    "Sensor stuck outputting same value, preventing normal transitions. This fault is caught when $\\tau > T_{max}$"
   ]
  },
  {
   "cell_type": "markdown",
   "metadata": {},
   "source": [
    "### Dynamic Adjustments:"
   ]
  },
  {
   "cell_type": "markdown",
   "metadata": {},
   "source": [
    "The time interval $\\tau$ is a function of rotation speed. Therefore, acceleration and deceleration between intervals could cause a fault detection. To avoid false detections, we can use a dynamic value $k_{thresh}$ which depends on the rotation acceleration. In steady state, where acceleration is zero, we would expect $k_{thresh} = k_{max}$. Then we dynamically subtrack a value proportional to relative speed change between intervals to adjust for high speed fluctuations. "
   ]
  },
  {
   "cell_type": "markdown",
   "metadata": {},
   "source": [
    "### Signal Reconstruction:\n",
    "- Once a fault is detected, we can reconstruct the signals without the hall effect which is not working. \n",
    "- Resolution of $\\theta_H$ is reduced and the rotor speed is esimtated with the remaining healthy Hall sensors. \n",
    "- When one hall sensor is faulted, there will be two sectors which are 120 degrees apart that need to be predicted with open-loop estimation instead of the previous even 60deg segments. \n",
    "- We can reconstruct a fault hall sensor signal from the remaining healthy ones."
   ]
  },
  {
   "cell_type": "markdown",
   "metadata": {},
   "source": []
  }
 ],
 "metadata": {
  "language_info": {
   "name": "python"
  }
 },
 "nbformat": 4,
 "nbformat_minor": 2
}
